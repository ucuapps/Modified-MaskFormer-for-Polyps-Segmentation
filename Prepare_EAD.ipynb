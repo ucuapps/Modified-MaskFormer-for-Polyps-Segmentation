{
 "cells": [
  {
   "cell_type": "code",
   "execution_count": 7,
   "id": "e3431697-ad07-49c1-b93c-48cf765c564c",
   "metadata": {},
   "outputs": [],
   "source": [
    "import os\n",
    "from PIL import Image\n",
    "import numpy as np\n",
    "import json\n",
    "import matplotlib.pyplot as plt\n",
    "import glob\n",
    "from tqdm import tqdm\n",
    "from tifffile import TiffFile\n",
    "import cv2\n",
    "import tifffile"
   ]
  },
  {
   "cell_type": "code",
   "execution_count": 8,
   "id": "b2c667f7-e80c-4f14-b413-b6a6f005d809",
   "metadata": {},
   "outputs": [],
   "source": [
    "def showImagesHorizontally(list_of_files):\n",
    "    plt.rcParams[\"figure.figsize\"] = (18,10)\n",
    "    fig = plt.figure()\n",
    "    number_of_files = len(list_of_files)\n",
    "    for i in range(number_of_files):\n",
    "        a=fig.add_subplot(1,number_of_files,i+1)\n",
    "        image = plt.imread(list_of_files[i])\n",
    "        plt.imshow(image,cmap='Greys_r')\n",
    "        plt.axis('off')\n",
    "        \n",
    "def showArraysHorizontally(list_of_arrs, names):\n",
    "    plt.rcParams[\"figure.figsize\"] = (18,10)\n",
    "    fig = plt.figure()\n",
    "    number_of_files = len(list_of_arrs)\n",
    "    for i in range(number_of_files):\n",
    "        a=fig.add_subplot(1,number_of_files,i+1)\n",
    "        image = list_of_arrs[i]\n",
    "        plt.title(names[i])\n",
    "        plt.imshow(image,cmap='Greys_r')\n",
    "        plt.axis('off')"
   ]
  },
  {
   "cell_type": "code",
   "execution_count": 9,
   "id": "451dac28-37d4-4b9d-9769-a67f130af58f",
   "metadata": {},
   "outputs": [],
   "source": [
    "root_path = '/datasets/EndoCV2022_ChallengeDataset/EAD2.0'\n",
    "sub_dirs = os.listdir(root_path)"
   ]
  },
  {
   "cell_type": "code",
   "execution_count": 27,
   "id": "fe5b5d82-029f-4412-81c3-dc65375ebc3d",
   "metadata": {},
   "outputs": [
    {
     "data": {
      "text/plain": [
       "['seq19_endocv22',\n",
       " 'seq17_endocv22',\n",
       " 'seq20_endocv22',\n",
       " 'seq5_endocv22',\n",
       " 'seq24_endocv22',\n",
       " 'seq16_endocv22',\n",
       " 'seq21_endocv22',\n",
       " 'seq23_endocv22',\n",
       " 'seq12_endocv22',\n",
       " 'seq1_endocv22',\n",
       " 'seq3_endocv22',\n",
       " 'seq7_endocv22',\n",
       " 'seq8_endocv22',\n",
       " 'seq13_endocv22',\n",
       " 'seq22_endocv22',\n",
       " 'seq11_endocv22',\n",
       " 'seq9_endocv22',\n",
       " 'seq15_endocv22',\n",
       " 'train.json',\n",
       " 'seq10_endocv22',\n",
       " 'seq18_endocv22',\n",
       " 'val.json',\n",
       " 'seq2_endocv22',\n",
       " 'seq4_endocv22',\n",
       " 'seq14_endocv22',\n",
       " 'seq6_endocv22']"
      ]
     },
     "execution_count": 27,
     "metadata": {},
     "output_type": "execute_result"
    }
   ],
   "source": [
    "sub_dirs"
   ]
  },
  {
   "cell_type": "code",
   "execution_count": 10,
   "id": "f2ba4858-47ef-4e3c-bb81-432171c1d85f",
   "metadata": {},
   "outputs": [
    {
     "data": {
      "text/plain": [
       "(20, 6)"
      ]
     },
     "execution_count": 10,
     "metadata": {},
     "output_type": "execute_result"
    }
   ],
   "source": [
    "train_dirs = sub_dirs[:int(len(sub_dirs) * 0.8)]\n",
    "val_dirs = sub_dirs[int(len(sub_dirs) * 0.8):]\n",
    "len(train_dirs), len(val_dirs)"
   ]
  },
  {
   "cell_type": "code",
   "execution_count": 22,
   "id": "ddebc6bc-e8eb-4151-8284-1d8028d79dae",
   "metadata": {
    "tags": []
   },
   "outputs": [
    {
     "name": "stderr",
     "output_type": "stream",
     "text": [
      "100%|██████████| 5/5 [00:15<00:00,  3.09s/it]\n"
     ]
    }
   ],
   "source": [
    "# We need the following info for single instance in json: image_path, height, width, sem_seg_file_name (mask_path), add_subdir\n",
    "save_dict = dict()\n",
    "for sub_dir in tqdm(val_dirs):\n",
    "    abs_path = os.path.join(root_path, sub_dir)\n",
    "    images_dir = os.path.join(abs_path, 'images')\n",
    "    mask_dir = os.path.join(abs_path, 'masks')\n",
    "    images = os.listdir(images_dir)\n",
    "    \n",
    "    images = list(map(lambda x: os.path.join(images_dir, x), images))\n",
    "    for image_path in images:\n",
    "        record = {}\n",
    "        image = cv2.imread(image_path)\n",
    "        image_name = image_path.split('/')[-1].split('.jpg')[0]\n",
    "\n",
    "        mask_path = image_path.replace('images', 'masks').replace('.jpg', '.tif')\n",
    "        new_mask_path = mask_path.replace('.tif', '.png')\n",
    "        mask = tifffile.imread(mask_path)\n",
    "        , mask = cv2.threshold(mask, 127, 255, cv2.THRESH_BINARY)\n",
    "        mask = (mask/255).astype(np.int32)\n",
    "\n",
    "        # Convert to single mask with different labels for each class\n",
    "        h, w = mask.shape[1], mask.shape[2]\n",
    "        new_mask = np.zeros((h, w), dtype=np.int32)\n",
    "        for idx in range(len(mask)):\n",
    "            pixel_value = idx + 1\n",
    "            new_mask = np.maximum(mask[idx] * pixel_value, new_mask)\n",
    "            \n",
    "        cv2.imwrite(new_mask_path, new_mask)\n",
    "        record['file_name'] = image_path\n",
    "        record['height'] = h\n",
    "        record['width'] = w\n",
    "        record['mask'] = new_mask_path\n",
    "        save_dict[image_name] = record\n",
    "    # Save into mask into .png format\n",
    "    # showArraysHorizontally([mask[idx] for idx in range(5)], categorynames)"
   ]
  },
  {
   "cell_type": "code",
   "execution_count": 23,
   "id": "96ed29d4-5eed-424a-b336-7e35d1a1d0f3",
   "metadata": {},
   "outputs": [],
   "source": [
    "with open(os.path.join(root_path, 'val.json'), 'w') as f:\n",
    "    json.dump(save_dict, f)"
   ]
  },
  {
   "cell_type": "code",
   "execution_count": null,
   "id": "c989e6eb-7a52-406e-9a47-3466f3f6957d",
   "metadata": {},
   "outputs": [],
   "source": []
  }
 ],
 "metadata": {
  "kernelspec": {
   "display_name": "Python 3",
   "language": "python",
   "name": "python3"
  },
  "language_info": {
   "codemirror_mode": {
    "name": "ipython",
    "version": 3
   },
   "file_extension": ".py",
   "mimetype": "text/x-python",
   "name": "python",
   "nbconvert_exporter": "python",
   "pygments_lexer": "ipython3",
   "version": "3.6.9"
  }
 },
 "nbformat": 4,
 "nbformat_minor": 5
}
